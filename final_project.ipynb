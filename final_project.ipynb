{
 "cells": [
  {
   "cell_type": "markdown",
   "id": "cc9fba03-9ba5-417d-af56-a80175e8987a",
   "metadata": {},
   "source": [
    "# Project Title: IPL Score Prediction\n",
    "## 1. Project Initialization"
   ]
  },
  {
   "cell_type": "code",
   "execution_count": 136,
   "id": "1832bde4-31b2-4478-b093-6618cd0b2775",
   "metadata": {},
   "outputs": [],
   "source": [
    "import pandas as pd\n",
    "import numpy as np\n",
    "import matplotlib.pyplot as plt\n",
    "import seaborn as sns\n",
    "import warnings\n",
    "warnings.filterwarnings(\"ignore\", category=UserWarning)"
   ]
  },
  {
   "cell_type": "markdown",
   "id": "eccf9cd7-2f25-41d5-9de0-f7ee8911480d",
   "metadata": {},
   "source": [
    "# 2. Data Understanding\n",
    "## 2.1 Data Collection"
   ]
  },
  {
   "cell_type": "code",
   "execution_count": 138,
   "id": "db71e6fb-670a-4909-bccd-61a9ce914725",
   "metadata": {},
   "outputs": [],
   "source": [
    "df=pd.read_csv(\"C:\\\\Users\\\\Admin\\\\Desktop\\\\python cuvette assignments\\\\Final\\\\ipl.csv\")"
   ]
  },
  {
   "cell_type": "markdown",
   "id": "d4e737b2-4bdb-47a4-aa32-0009f1dadf0c",
   "metadata": {},
   "source": [
    "## 2.2 Data Exploration"
   ]
  },
  {
   "cell_type": "code",
   "execution_count": 140,
   "id": "d67e9055-af5b-49c6-96a8-aea5410c1c8b",
   "metadata": {},
   "outputs": [
    {
     "data": {
      "text/html": [
       "<div>\n",
       "<style scoped>\n",
       "    .dataframe tbody tr th:only-of-type {\n",
       "        vertical-align: middle;\n",
       "    }\n",
       "\n",
       "    .dataframe tbody tr th {\n",
       "        vertical-align: top;\n",
       "    }\n",
       "\n",
       "    .dataframe thead th {\n",
       "        text-align: right;\n",
       "    }\n",
       "</style>\n",
       "<table border=\"1\" class=\"dataframe\">\n",
       "  <thead>\n",
       "    <tr style=\"text-align: right;\">\n",
       "      <th></th>\n",
       "      <th>mid</th>\n",
       "      <th>date</th>\n",
       "      <th>venue</th>\n",
       "      <th>bat_team</th>\n",
       "      <th>bowl_team</th>\n",
       "      <th>batsman</th>\n",
       "      <th>bowler</th>\n",
       "      <th>runs</th>\n",
       "      <th>wickets</th>\n",
       "      <th>overs</th>\n",
       "      <th>runs_last_5</th>\n",
       "      <th>wickets_last_5</th>\n",
       "      <th>striker</th>\n",
       "      <th>non-striker</th>\n",
       "      <th>total</th>\n",
       "    </tr>\n",
       "  </thead>\n",
       "  <tbody>\n",
       "    <tr>\n",
       "      <th>0</th>\n",
       "      <td>1</td>\n",
       "      <td>2008-04-18</td>\n",
       "      <td>M Chinnaswamy Stadium</td>\n",
       "      <td>Kolkata Knight Riders</td>\n",
       "      <td>Royal Challengers Bangalore</td>\n",
       "      <td>SC Ganguly</td>\n",
       "      <td>P Kumar</td>\n",
       "      <td>1</td>\n",
       "      <td>0</td>\n",
       "      <td>0.1</td>\n",
       "      <td>1</td>\n",
       "      <td>0</td>\n",
       "      <td>0</td>\n",
       "      <td>0</td>\n",
       "      <td>222</td>\n",
       "    </tr>\n",
       "    <tr>\n",
       "      <th>1</th>\n",
       "      <td>1</td>\n",
       "      <td>2008-04-18</td>\n",
       "      <td>M Chinnaswamy Stadium</td>\n",
       "      <td>Kolkata Knight Riders</td>\n",
       "      <td>Royal Challengers Bangalore</td>\n",
       "      <td>BB McCullum</td>\n",
       "      <td>P Kumar</td>\n",
       "      <td>1</td>\n",
       "      <td>0</td>\n",
       "      <td>0.2</td>\n",
       "      <td>1</td>\n",
       "      <td>0</td>\n",
       "      <td>0</td>\n",
       "      <td>0</td>\n",
       "      <td>222</td>\n",
       "    </tr>\n",
       "    <tr>\n",
       "      <th>2</th>\n",
       "      <td>1</td>\n",
       "      <td>2008-04-18</td>\n",
       "      <td>M Chinnaswamy Stadium</td>\n",
       "      <td>Kolkata Knight Riders</td>\n",
       "      <td>Royal Challengers Bangalore</td>\n",
       "      <td>BB McCullum</td>\n",
       "      <td>P Kumar</td>\n",
       "      <td>2</td>\n",
       "      <td>0</td>\n",
       "      <td>0.2</td>\n",
       "      <td>2</td>\n",
       "      <td>0</td>\n",
       "      <td>0</td>\n",
       "      <td>0</td>\n",
       "      <td>222</td>\n",
       "    </tr>\n",
       "    <tr>\n",
       "      <th>3</th>\n",
       "      <td>1</td>\n",
       "      <td>2008-04-18</td>\n",
       "      <td>M Chinnaswamy Stadium</td>\n",
       "      <td>Kolkata Knight Riders</td>\n",
       "      <td>Royal Challengers Bangalore</td>\n",
       "      <td>BB McCullum</td>\n",
       "      <td>P Kumar</td>\n",
       "      <td>2</td>\n",
       "      <td>0</td>\n",
       "      <td>0.3</td>\n",
       "      <td>2</td>\n",
       "      <td>0</td>\n",
       "      <td>0</td>\n",
       "      <td>0</td>\n",
       "      <td>222</td>\n",
       "    </tr>\n",
       "    <tr>\n",
       "      <th>4</th>\n",
       "      <td>1</td>\n",
       "      <td>2008-04-18</td>\n",
       "      <td>M Chinnaswamy Stadium</td>\n",
       "      <td>Kolkata Knight Riders</td>\n",
       "      <td>Royal Challengers Bangalore</td>\n",
       "      <td>BB McCullum</td>\n",
       "      <td>P Kumar</td>\n",
       "      <td>2</td>\n",
       "      <td>0</td>\n",
       "      <td>0.4</td>\n",
       "      <td>2</td>\n",
       "      <td>0</td>\n",
       "      <td>0</td>\n",
       "      <td>0</td>\n",
       "      <td>222</td>\n",
       "    </tr>\n",
       "  </tbody>\n",
       "</table>\n",
       "</div>"
      ],
      "text/plain": [
       "   mid        date                  venue               bat_team  \\\n",
       "0    1  2008-04-18  M Chinnaswamy Stadium  Kolkata Knight Riders   \n",
       "1    1  2008-04-18  M Chinnaswamy Stadium  Kolkata Knight Riders   \n",
       "2    1  2008-04-18  M Chinnaswamy Stadium  Kolkata Knight Riders   \n",
       "3    1  2008-04-18  M Chinnaswamy Stadium  Kolkata Knight Riders   \n",
       "4    1  2008-04-18  M Chinnaswamy Stadium  Kolkata Knight Riders   \n",
       "\n",
       "                     bowl_team      batsman   bowler  runs  wickets  overs  \\\n",
       "0  Royal Challengers Bangalore   SC Ganguly  P Kumar     1        0    0.1   \n",
       "1  Royal Challengers Bangalore  BB McCullum  P Kumar     1        0    0.2   \n",
       "2  Royal Challengers Bangalore  BB McCullum  P Kumar     2        0    0.2   \n",
       "3  Royal Challengers Bangalore  BB McCullum  P Kumar     2        0    0.3   \n",
       "4  Royal Challengers Bangalore  BB McCullum  P Kumar     2        0    0.4   \n",
       "\n",
       "   runs_last_5  wickets_last_5  striker  non-striker  total  \n",
       "0            1               0        0            0    222  \n",
       "1            1               0        0            0    222  \n",
       "2            2               0        0            0    222  \n",
       "3            2               0        0            0    222  \n",
       "4            2               0        0            0    222  "
      ]
     },
     "execution_count": 140,
     "metadata": {},
     "output_type": "execute_result"
    }
   ],
   "source": [
    "df.head()"
   ]
  },
  {
   "cell_type": "code",
   "execution_count": 142,
   "id": "24683bc6-76dd-46a4-8cb9-0366c0a38cc9",
   "metadata": {},
   "outputs": [
    {
     "data": {
      "text/plain": [
       "(76014, 15)"
      ]
     },
     "execution_count": 142,
     "metadata": {},
     "output_type": "execute_result"
    }
   ],
   "source": [
    "df.shape"
   ]
  },
  {
   "cell_type": "code",
   "execution_count": 144,
   "id": "07c56be8-6fa8-44ec-b915-5935b42b6910",
   "metadata": {},
   "outputs": [
    {
     "name": "stdout",
     "output_type": "stream",
     "text": [
      "<class 'pandas.core.frame.DataFrame'>\n",
      "RangeIndex: 76014 entries, 0 to 76013\n",
      "Data columns (total 15 columns):\n",
      " #   Column          Non-Null Count  Dtype  \n",
      "---  ------          --------------  -----  \n",
      " 0   mid             76014 non-null  int64  \n",
      " 1   date            76014 non-null  object \n",
      " 2   venue           76014 non-null  object \n",
      " 3   bat_team        76014 non-null  object \n",
      " 4   bowl_team       76014 non-null  object \n",
      " 5   batsman         76014 non-null  object \n",
      " 6   bowler          76014 non-null  object \n",
      " 7   runs            76014 non-null  int64  \n",
      " 8   wickets         76014 non-null  int64  \n",
      " 9   overs           76014 non-null  float64\n",
      " 10  runs_last_5     76014 non-null  int64  \n",
      " 11  wickets_last_5  76014 non-null  int64  \n",
      " 12  striker         76014 non-null  int64  \n",
      " 13  non-striker     76014 non-null  int64  \n",
      " 14  total           76014 non-null  int64  \n",
      "dtypes: float64(1), int64(8), object(6)\n",
      "memory usage: 8.7+ MB\n"
     ]
    }
   ],
   "source": [
    "df.info()"
   ]
  },
  {
   "cell_type": "code",
   "execution_count": 146,
   "id": "45c3dac6-bdc3-4d83-bb8f-ffc3f58dcbeb",
   "metadata": {},
   "outputs": [
    {
     "data": {
      "text/plain": [
       "mid               0\n",
       "date              0\n",
       "venue             0\n",
       "bat_team          0\n",
       "bowl_team         0\n",
       "batsman           0\n",
       "bowler            0\n",
       "runs              0\n",
       "wickets           0\n",
       "overs             0\n",
       "runs_last_5       0\n",
       "wickets_last_5    0\n",
       "striker           0\n",
       "non-striker       0\n",
       "total             0\n",
       "dtype: int64"
      ]
     },
     "execution_count": 146,
     "metadata": {},
     "output_type": "execute_result"
    }
   ],
   "source": [
    "df.isnull().sum()"
   ]
  },
  {
   "cell_type": "code",
   "execution_count": 148,
   "id": "57b11235-986e-43cf-bd44-f41063862f06",
   "metadata": {},
   "outputs": [],
   "source": [
    "# Clean column names by stripping whitespace\n",
    "df.columns = df.columns.str.strip()"
   ]
  },
  {
   "cell_type": "code",
   "execution_count": 150,
   "id": "58c4cfbd-bc2b-419b-95de-aded6e84cc4b",
   "metadata": {},
   "outputs": [
    {
     "name": "stdout",
     "output_type": "stream",
     "text": [
      "<class 'pandas.core.frame.DataFrame'>\n",
      "RangeIndex: 76014 entries, 0 to 76013\n",
      "Data columns (total 15 columns):\n",
      " #   Column          Non-Null Count  Dtype  \n",
      "---  ------          --------------  -----  \n",
      " 0   mid             76014 non-null  int64  \n",
      " 1   date            76014 non-null  object \n",
      " 2   venue           76014 non-null  object \n",
      " 3   bat_team        76014 non-null  object \n",
      " 4   bowl_team       76014 non-null  object \n",
      " 5   batsman         76014 non-null  object \n",
      " 6   bowler          76014 non-null  object \n",
      " 7   runs            76014 non-null  int64  \n",
      " 8   wickets         76014 non-null  int64  \n",
      " 9   overs           76014 non-null  float64\n",
      " 10  runs_last_5     76014 non-null  int64  \n",
      " 11  wickets_last_5  76014 non-null  int64  \n",
      " 12  striker         76014 non-null  int64  \n",
      " 13  non-striker     76014 non-null  int64  \n",
      " 14  total           76014 non-null  int64  \n",
      "dtypes: float64(1), int64(8), object(6)\n",
      "memory usage: 8.7+ MB\n"
     ]
    }
   ],
   "source": [
    "df.info()"
   ]
  },
  {
   "cell_type": "code",
   "execution_count": 152,
   "id": "84ee4afc-56ce-49c7-8472-7904931ffa02",
   "metadata": {},
   "outputs": [
    {
     "data": {
      "text/html": [
       "<div>\n",
       "<style scoped>\n",
       "    .dataframe tbody tr th:only-of-type {\n",
       "        vertical-align: middle;\n",
       "    }\n",
       "\n",
       "    .dataframe tbody tr th {\n",
       "        vertical-align: top;\n",
       "    }\n",
       "\n",
       "    .dataframe thead th {\n",
       "        text-align: right;\n",
       "    }\n",
       "</style>\n",
       "<table border=\"1\" class=\"dataframe\">\n",
       "  <thead>\n",
       "    <tr style=\"text-align: right;\">\n",
       "      <th></th>\n",
       "      <th>mid</th>\n",
       "      <th>runs</th>\n",
       "      <th>wickets</th>\n",
       "      <th>overs</th>\n",
       "      <th>runs_last_5</th>\n",
       "      <th>wickets_last_5</th>\n",
       "      <th>striker</th>\n",
       "      <th>non-striker</th>\n",
       "      <th>total</th>\n",
       "    </tr>\n",
       "  </thead>\n",
       "  <tbody>\n",
       "    <tr>\n",
       "      <th>count</th>\n",
       "      <td>76014.000000</td>\n",
       "      <td>76014.000000</td>\n",
       "      <td>76014.000000</td>\n",
       "      <td>76014.000000</td>\n",
       "      <td>76014.000000</td>\n",
       "      <td>76014.000000</td>\n",
       "      <td>76014.000000</td>\n",
       "      <td>76014.000000</td>\n",
       "      <td>76014.000000</td>\n",
       "    </tr>\n",
       "    <tr>\n",
       "      <th>mean</th>\n",
       "      <td>308.627740</td>\n",
       "      <td>74.889349</td>\n",
       "      <td>2.415844</td>\n",
       "      <td>9.783068</td>\n",
       "      <td>33.216434</td>\n",
       "      <td>1.120307</td>\n",
       "      <td>24.962283</td>\n",
       "      <td>8.869287</td>\n",
       "      <td>160.901452</td>\n",
       "    </tr>\n",
       "    <tr>\n",
       "      <th>std</th>\n",
       "      <td>178.156878</td>\n",
       "      <td>48.823327</td>\n",
       "      <td>2.015207</td>\n",
       "      <td>5.772587</td>\n",
       "      <td>14.914174</td>\n",
       "      <td>1.053343</td>\n",
       "      <td>20.079752</td>\n",
       "      <td>10.795742</td>\n",
       "      <td>29.246231</td>\n",
       "    </tr>\n",
       "    <tr>\n",
       "      <th>min</th>\n",
       "      <td>1.000000</td>\n",
       "      <td>0.000000</td>\n",
       "      <td>0.000000</td>\n",
       "      <td>0.000000</td>\n",
       "      <td>0.000000</td>\n",
       "      <td>0.000000</td>\n",
       "      <td>0.000000</td>\n",
       "      <td>0.000000</td>\n",
       "      <td>67.000000</td>\n",
       "    </tr>\n",
       "    <tr>\n",
       "      <th>25%</th>\n",
       "      <td>154.000000</td>\n",
       "      <td>34.000000</td>\n",
       "      <td>1.000000</td>\n",
       "      <td>4.600000</td>\n",
       "      <td>24.000000</td>\n",
       "      <td>0.000000</td>\n",
       "      <td>10.000000</td>\n",
       "      <td>1.000000</td>\n",
       "      <td>142.000000</td>\n",
       "    </tr>\n",
       "    <tr>\n",
       "      <th>50%</th>\n",
       "      <td>308.000000</td>\n",
       "      <td>70.000000</td>\n",
       "      <td>2.000000</td>\n",
       "      <td>9.600000</td>\n",
       "      <td>34.000000</td>\n",
       "      <td>1.000000</td>\n",
       "      <td>20.000000</td>\n",
       "      <td>5.000000</td>\n",
       "      <td>162.000000</td>\n",
       "    </tr>\n",
       "    <tr>\n",
       "      <th>75%</th>\n",
       "      <td>463.000000</td>\n",
       "      <td>111.000000</td>\n",
       "      <td>4.000000</td>\n",
       "      <td>14.600000</td>\n",
       "      <td>43.000000</td>\n",
       "      <td>2.000000</td>\n",
       "      <td>35.000000</td>\n",
       "      <td>13.000000</td>\n",
       "      <td>181.000000</td>\n",
       "    </tr>\n",
       "    <tr>\n",
       "      <th>max</th>\n",
       "      <td>617.000000</td>\n",
       "      <td>263.000000</td>\n",
       "      <td>10.000000</td>\n",
       "      <td>19.600000</td>\n",
       "      <td>113.000000</td>\n",
       "      <td>7.000000</td>\n",
       "      <td>175.000000</td>\n",
       "      <td>109.000000</td>\n",
       "      <td>263.000000</td>\n",
       "    </tr>\n",
       "  </tbody>\n",
       "</table>\n",
       "</div>"
      ],
      "text/plain": [
       "                mid          runs       wickets         overs   runs_last_5  \\\n",
       "count  76014.000000  76014.000000  76014.000000  76014.000000  76014.000000   \n",
       "mean     308.627740     74.889349      2.415844      9.783068     33.216434   \n",
       "std      178.156878     48.823327      2.015207      5.772587     14.914174   \n",
       "min        1.000000      0.000000      0.000000      0.000000      0.000000   \n",
       "25%      154.000000     34.000000      1.000000      4.600000     24.000000   \n",
       "50%      308.000000     70.000000      2.000000      9.600000     34.000000   \n",
       "75%      463.000000    111.000000      4.000000     14.600000     43.000000   \n",
       "max      617.000000    263.000000     10.000000     19.600000    113.000000   \n",
       "\n",
       "       wickets_last_5       striker   non-striker         total  \n",
       "count    76014.000000  76014.000000  76014.000000  76014.000000  \n",
       "mean         1.120307     24.962283      8.869287    160.901452  \n",
       "std          1.053343     20.079752     10.795742     29.246231  \n",
       "min          0.000000      0.000000      0.000000     67.000000  \n",
       "25%          0.000000     10.000000      1.000000    142.000000  \n",
       "50%          1.000000     20.000000      5.000000    162.000000  \n",
       "75%          2.000000     35.000000     13.000000    181.000000  \n",
       "max          7.000000    175.000000    109.000000    263.000000  "
      ]
     },
     "execution_count": 152,
     "metadata": {},
     "output_type": "execute_result"
    }
   ],
   "source": [
    "df.describe()"
   ]
  },
  {
   "cell_type": "markdown",
   "id": "4f1c7b84-bda2-491a-b23a-822dd90ca06f",
   "metadata": {},
   "source": [
    "# 3. Data Preprocessing"
   ]
  },
  {
   "cell_type": "markdown",
   "id": "b11d627b-abc4-4a66-9e39-24b25764c806",
   "metadata": {},
   "source": [
    "## 3.1 Data Cleaning"
   ]
  },
  {
   "cell_type": "code",
   "execution_count": 154,
   "id": "2389dc17-f8eb-4556-819f-ac7345ce751c",
   "metadata": {},
   "outputs": [
    {
     "name": "stdout",
     "output_type": "stream",
     "text": [
      "Columns after removal: Index(['date', 'bat_team', 'bowl_team', 'runs', 'wickets', 'overs',\n",
      "       'runs_last_5', 'wickets_last_5', 'total'],\n",
      "      dtype='object')\n"
     ]
    },
    {
     "data": {
      "text/html": [
       "<div>\n",
       "<style scoped>\n",
       "    .dataframe tbody tr th:only-of-type {\n",
       "        vertical-align: middle;\n",
       "    }\n",
       "\n",
       "    .dataframe tbody tr th {\n",
       "        vertical-align: top;\n",
       "    }\n",
       "\n",
       "    .dataframe thead th {\n",
       "        text-align: right;\n",
       "    }\n",
       "</style>\n",
       "<table border=\"1\" class=\"dataframe\">\n",
       "  <thead>\n",
       "    <tr style=\"text-align: right;\">\n",
       "      <th></th>\n",
       "      <th>date</th>\n",
       "      <th>bat_team</th>\n",
       "      <th>bowl_team</th>\n",
       "      <th>runs</th>\n",
       "      <th>wickets</th>\n",
       "      <th>overs</th>\n",
       "      <th>runs_last_5</th>\n",
       "      <th>wickets_last_5</th>\n",
       "      <th>total</th>\n",
       "    </tr>\n",
       "  </thead>\n",
       "  <tbody>\n",
       "    <tr>\n",
       "      <th>0</th>\n",
       "      <td>2008-04-18</td>\n",
       "      <td>Kolkata Knight Riders</td>\n",
       "      <td>Royal Challengers Bangalore</td>\n",
       "      <td>1</td>\n",
       "      <td>0</td>\n",
       "      <td>0.1</td>\n",
       "      <td>1</td>\n",
       "      <td>0</td>\n",
       "      <td>222</td>\n",
       "    </tr>\n",
       "    <tr>\n",
       "      <th>1</th>\n",
       "      <td>2008-04-18</td>\n",
       "      <td>Kolkata Knight Riders</td>\n",
       "      <td>Royal Challengers Bangalore</td>\n",
       "      <td>1</td>\n",
       "      <td>0</td>\n",
       "      <td>0.2</td>\n",
       "      <td>1</td>\n",
       "      <td>0</td>\n",
       "      <td>222</td>\n",
       "    </tr>\n",
       "    <tr>\n",
       "      <th>2</th>\n",
       "      <td>2008-04-18</td>\n",
       "      <td>Kolkata Knight Riders</td>\n",
       "      <td>Royal Challengers Bangalore</td>\n",
       "      <td>2</td>\n",
       "      <td>0</td>\n",
       "      <td>0.2</td>\n",
       "      <td>2</td>\n",
       "      <td>0</td>\n",
       "      <td>222</td>\n",
       "    </tr>\n",
       "    <tr>\n",
       "      <th>3</th>\n",
       "      <td>2008-04-18</td>\n",
       "      <td>Kolkata Knight Riders</td>\n",
       "      <td>Royal Challengers Bangalore</td>\n",
       "      <td>2</td>\n",
       "      <td>0</td>\n",
       "      <td>0.3</td>\n",
       "      <td>2</td>\n",
       "      <td>0</td>\n",
       "      <td>222</td>\n",
       "    </tr>\n",
       "    <tr>\n",
       "      <th>4</th>\n",
       "      <td>2008-04-18</td>\n",
       "      <td>Kolkata Knight Riders</td>\n",
       "      <td>Royal Challengers Bangalore</td>\n",
       "      <td>2</td>\n",
       "      <td>0</td>\n",
       "      <td>0.4</td>\n",
       "      <td>2</td>\n",
       "      <td>0</td>\n",
       "      <td>222</td>\n",
       "    </tr>\n",
       "  </tbody>\n",
       "</table>\n",
       "</div>"
      ],
      "text/plain": [
       "         date               bat_team                    bowl_team  runs  \\\n",
       "0  2008-04-18  Kolkata Knight Riders  Royal Challengers Bangalore     1   \n",
       "1  2008-04-18  Kolkata Knight Riders  Royal Challengers Bangalore     1   \n",
       "2  2008-04-18  Kolkata Knight Riders  Royal Challengers Bangalore     2   \n",
       "3  2008-04-18  Kolkata Knight Riders  Royal Challengers Bangalore     2   \n",
       "4  2008-04-18  Kolkata Knight Riders  Royal Challengers Bangalore     2   \n",
       "\n",
       "   wickets  overs  runs_last_5  wickets_last_5  total  \n",
       "0        0    0.1            1               0    222  \n",
       "1        0    0.2            1               0    222  \n",
       "2        0    0.2            2               0    222  \n",
       "3        0    0.3            2               0    222  \n",
       "4        0    0.4            2               0    222  "
      ]
     },
     "execution_count": 154,
     "metadata": {},
     "output_type": "execute_result"
    }
   ],
   "source": [
    "# Drop irrelevant columns\n",
    "columns_to_drop = ['mid', 'venue', 'batsman', 'bowler', 'striker', 'non-striker']\n",
    "df.drop(columns_to_drop, axis=1, inplace=True)\n",
    "\n",
    "print(\"Columns after removal:\", df.columns)\n",
    "df.head()"
   ]
  },
  {
   "cell_type": "code",
   "execution_count": 156,
   "id": "df50b6a4-1e58-4804-9878-99915ad04eda",
   "metadata": {},
   "outputs": [
    {
     "name": "stdout",
     "output_type": "stream",
     "text": [
      "Teams after filtering: ['Kolkata Knight Riders' 'Chennai Super Kings' 'Rajasthan Royals'\n",
      " 'Mumbai Indians' 'Deccan Chargers' 'Kings XI Punjab'\n",
      " 'Royal Challengers Bangalore' 'Delhi Daredevils']\n"
     ]
    }
   ],
   "source": [
    "# List of consistent teams (customize based on your dataset)\n",
    "consistent_teams = [\n",
    "    'Chennai Super Kings', 'Mumbai Indians', 'Kolkata Knight Riders',\n",
    "    'Royal Challengers Bangalore', 'Kings XI Punjab', 'Delhi Daredevils',\n",
    "    'Rajasthan Royals', 'Deccan Chargers'\n",
    "]\n",
    "\n",
    "# Filter rows where both batting and bowling teams are in consistent_teams\n",
    "df = df[df['bat_team'].isin(consistent_teams) & df['bowl_team'].isin(consistent_teams)]\n",
    "\n",
    "print(\"Teams after filtering:\", df['bat_team'].unique())"
   ]
  },
  {
   "cell_type": "code",
   "execution_count": 158,
   "id": "620d5a80-3f58-41de-9712-6082ed04619b",
   "metadata": {},
   "outputs": [
    {
     "name": "stdout",
     "output_type": "stream",
     "text": [
      "Data after removing first 5 overs: (40895, 9)\n"
     ]
    }
   ],
   "source": [
    "# Remove rows where overs < 5.0\n",
    "df = df[df['overs'] >= 5.0]\n",
    "\n",
    "print(\"Data after removing first 5 overs:\", df.shape)"
   ]
  },
  {
   "cell_type": "code",
   "execution_count": 160,
   "id": "0060b59e-23e0-4760-98ef-0dece160528f",
   "metadata": {},
   "outputs": [
    {
     "name": "stdout",
     "output_type": "stream",
     "text": [
      "Date column after conversion: datetime64[ns]\n"
     ]
    }
   ],
   "source": [
    "# Convert 'date' to datetime\n",
    "df['date'] = pd.to_datetime(df['date'])\n",
    "\n",
    "print(\"Date column after conversion:\", df['date'].dtype)"
   ]
  },
  {
   "cell_type": "markdown",
   "id": "72985647-1e1d-4185-8ff8-38228a529663",
   "metadata": {},
   "source": [
    "## 3.2 Feature Selection"
   ]
  },
  {
   "cell_type": "code",
   "execution_count": 163,
   "id": "e4298421-0075-48fe-8552-3b9c0eb6add4",
   "metadata": {},
   "outputs": [],
   "source": [
    "numerical_df = df.select_dtypes(include=['int64', 'float64'])"
   ]
  },
  {
   "cell_type": "code",
   "execution_count": 165,
   "id": "aaa0919c-7a91-46de-ab83-2a16bc6f5f34",
   "metadata": {},
   "outputs": [],
   "source": [
    "correlation_matrix = numerical_df.corr()"
   ]
  },
  {
   "cell_type": "code",
   "execution_count": 167,
   "id": "ac8142d5-6ed6-4286-88e2-5547b64d24c1",
   "metadata": {},
   "outputs": [
    {
     "data": {
      "image/png": "[encoded data removed]",
      "text/plain": [
       "<Figure size 1000x800 with 2 Axes>"
      ]
     },
     "metadata": {},
     "output_type": "display_data"
    }
   ],
   "source": [
    "plt.figure(figsize=(10, 8))\n",
    "sns.heatmap(\n",
    "    correlation_matrix,\n",
    "    annot=True,  # Show correlation values\n",
    "    cmap='coolwarm',  # Color scheme\n",
    "    center=0,  # Center at 0 (no correlation)\n",
    ")\n",
    "plt.title(\"Correlation Heatmap of IPL Dataset\")\n",
    "plt.show()"
   ]
  },
  {
   "cell_type": "markdown",
   "id": "0118d6b8-ac80-4869-a744-e70d59882e2f",
   "metadata": {},
   "source": [
    "## 3.3 Encoding Categorical Features"
   ]
  },
  {
   "cell_type": "code",
   "execution_count": 170,
   "id": "eab11672-4bdd-48c3-9fc3-1000d5a2f6ed",
   "metadata": {},
   "outputs": [
    {
     "name": "stdout",
     "output_type": "stream",
     "text": [
      "bat_team     0\n",
      "bowl_team    0\n",
      "dtype: int64\n"
     ]
    }
   ],
   "source": [
    "from sklearn.preprocessing import OneHotEncoder\n",
    "from sklearn.compose import make_column_transformer\n",
    "\n",
    "categorical_cols = ['bat_team', 'bowl_team']\n",
    "print(df[['bat_team', 'bowl_team']].isnull().sum())"
   ]
  },
  {
   "cell_type": "code",
   "execution_count": 174,
   "id": "6d08ee7a-8a95-48c2-9ec0-81139c26ac64",
   "metadata": {},
   "outputs": [
    {
     "name": "stdout",
     "output_type": "stream",
     "text": [
      "\n",
      "NaN values after encoding: 0\n",
      "\n",
      "First 5 rows of transformed data:\n"
     ]
    },
    {
     "data": {
      "text/html": [
       "<div>\n",
       "<style scoped>\n",
       "    .dataframe tbody tr th:only-of-type {\n",
       "        vertical-align: middle;\n",
       "    }\n",
       "\n",
       "    .dataframe tbody tr th {\n",
       "        vertical-align: top;\n",
       "    }\n",
       "\n",
       "    .dataframe thead th {\n",
       "        text-align: right;\n",
       "    }\n",
       "</style>\n",
       "<table border=\"1\" class=\"dataframe\">\n",
       "  <thead>\n",
       "    <tr style=\"text-align: right;\">\n",
       "      <th></th>\n",
       "      <th>bat_team_Chennai Super Kings</th>\n",
       "      <th>bat_team_Deccan Chargers</th>\n",
       "      <th>bat_team_Delhi Daredevils</th>\n",
       "      <th>bat_team_Kings XI Punjab</th>\n",
       "      <th>bat_team_Kolkata Knight Riders</th>\n",
       "      <th>bat_team_Mumbai Indians</th>\n",
       "      <th>bat_team_Rajasthan Royals</th>\n",
       "      <th>bat_team_Royal Challengers Bangalore</th>\n",
       "      <th>bowl_team_Chennai Super Kings</th>\n",
       "      <th>bowl_team_Deccan Chargers</th>\n",
       "      <th>...</th>\n",
       "      <th>bowl_team_Mumbai Indians</th>\n",
       "      <th>bowl_team_Rajasthan Royals</th>\n",
       "      <th>bowl_team_Royal Challengers Bangalore</th>\n",
       "      <th>date</th>\n",
       "      <th>runs</th>\n",
       "      <th>wickets</th>\n",
       "      <th>overs</th>\n",
       "      <th>runs_last_5</th>\n",
       "      <th>wickets_last_5</th>\n",
       "      <th>total</th>\n",
       "    </tr>\n",
       "  </thead>\n",
       "  <tbody>\n",
       "    <tr>\n",
       "      <th>0</th>\n",
       "      <td>0.0</td>\n",
       "      <td>0.0</td>\n",
       "      <td>0.0</td>\n",
       "      <td>0.0</td>\n",
       "      <td>1.0</td>\n",
       "      <td>0.0</td>\n",
       "      <td>0.0</td>\n",
       "      <td>0.0</td>\n",
       "      <td>0.0</td>\n",
       "      <td>0.0</td>\n",
       "      <td>...</td>\n",
       "      <td>0.0</td>\n",
       "      <td>0.0</td>\n",
       "      <td>1.0</td>\n",
       "      <td>2008-04-18</td>\n",
       "      <td>61</td>\n",
       "      <td>0</td>\n",
       "      <td>5.1</td>\n",
       "      <td>59</td>\n",
       "      <td>0</td>\n",
       "      <td>222</td>\n",
       "    </tr>\n",
       "    <tr>\n",
       "      <th>1</th>\n",
       "      <td>0.0</td>\n",
       "      <td>0.0</td>\n",
       "      <td>0.0</td>\n",
       "      <td>0.0</td>\n",
       "      <td>1.0</td>\n",
       "      <td>0.0</td>\n",
       "      <td>0.0</td>\n",
       "      <td>0.0</td>\n",
       "      <td>0.0</td>\n",
       "      <td>0.0</td>\n",
       "      <td>...</td>\n",
       "      <td>0.0</td>\n",
       "      <td>0.0</td>\n",
       "      <td>1.0</td>\n",
       "      <td>2008-04-18</td>\n",
       "      <td>61</td>\n",
       "      <td>1</td>\n",
       "      <td>5.2</td>\n",
       "      <td>59</td>\n",
       "      <td>1</td>\n",
       "      <td>222</td>\n",
       "    </tr>\n",
       "    <tr>\n",
       "      <th>2</th>\n",
       "      <td>0.0</td>\n",
       "      <td>0.0</td>\n",
       "      <td>0.0</td>\n",
       "      <td>0.0</td>\n",
       "      <td>1.0</td>\n",
       "      <td>0.0</td>\n",
       "      <td>0.0</td>\n",
       "      <td>0.0</td>\n",
       "      <td>0.0</td>\n",
       "      <td>0.0</td>\n",
       "      <td>...</td>\n",
       "      <td>0.0</td>\n",
       "      <td>0.0</td>\n",
       "      <td>1.0</td>\n",
       "      <td>2008-04-18</td>\n",
       "      <td>61</td>\n",
       "      <td>1</td>\n",
       "      <td>5.3</td>\n",
       "      <td>59</td>\n",
       "      <td>1</td>\n",
       "      <td>222</td>\n",
       "    </tr>\n",
       "    <tr>\n",
       "      <th>3</th>\n",
       "      <td>0.0</td>\n",
       "      <td>0.0</td>\n",
       "      <td>0.0</td>\n",
       "      <td>0.0</td>\n",
       "      <td>1.0</td>\n",
       "      <td>0.0</td>\n",
       "      <td>0.0</td>\n",
       "      <td>0.0</td>\n",
       "      <td>0.0</td>\n",
       "      <td>0.0</td>\n",
       "      <td>...</td>\n",
       "      <td>0.0</td>\n",
       "      <td>0.0</td>\n",
       "      <td>1.0</td>\n",
       "      <td>2008-04-18</td>\n",
       "      <td>61</td>\n",
       "      <td>1</td>\n",
       "      <td>5.4</td>\n",
       "      <td>59</td>\n",
       "      <td>1</td>\n",
       "      <td>222</td>\n",
       "    </tr>\n",
       "    <tr>\n",
       "      <th>4</th>\n",
       "      <td>0.0</td>\n",
       "      <td>0.0</td>\n",
       "      <td>0.0</td>\n",
       "      <td>0.0</td>\n",
       "      <td>1.0</td>\n",
       "      <td>0.0</td>\n",
       "      <td>0.0</td>\n",
       "      <td>0.0</td>\n",
       "      <td>0.0</td>\n",
       "      <td>0.0</td>\n",
       "      <td>...</td>\n",
       "      <td>0.0</td>\n",
       "      <td>0.0</td>\n",
       "      <td>1.0</td>\n",
       "      <td>2008-04-18</td>\n",
       "      <td>61</td>\n",
       "      <td>1</td>\n",
       "      <td>5.5</td>\n",
       "      <td>58</td>\n",
       "      <td>1</td>\n",
       "      <td>222</td>\n",
       "    </tr>\n",
       "  </tbody>\n",
       "</table>\n",
       "<p>5 rows × 23 columns</p>\n",
       "</div>"
      ],
      "text/plain": [
       "  bat_team_Chennai Super Kings bat_team_Deccan Chargers  \\\n",
       "0                          0.0                      0.0   \n",
       "1                          0.0                      0.0   \n",
       "2                          0.0                      0.0   \n",
       "3                          0.0                      0.0   \n",
       "4                          0.0                      0.0   \n",
       "\n",
       "  bat_team_Delhi Daredevils bat_team_Kings XI Punjab  \\\n",
       "0                       0.0                      0.0   \n",
       "1                       0.0                      0.0   \n",
       "2                       0.0                      0.0   \n",
       "3                       0.0                      0.0   \n",
       "4                       0.0                      0.0   \n",
       "\n",
       "  bat_team_Kolkata Knight Riders bat_team_Mumbai Indians  \\\n",
       "0                            1.0                     0.0   \n",
       "1                            1.0                     0.0   \n",
       "2                            1.0                     0.0   \n",
       "3                            1.0                     0.0   \n",
       "4                            1.0                     0.0   \n",
       "\n",
       "  bat_team_Rajasthan Royals bat_team_Royal Challengers Bangalore  \\\n",
       "0                       0.0                                  0.0   \n",
       "1                       0.0                                  0.0   \n",
       "2                       0.0                                  0.0   \n",
       "3                       0.0                                  0.0   \n",
       "4                       0.0                                  0.0   \n",
       "\n",
       "  bowl_team_Chennai Super Kings bowl_team_Deccan Chargers  ...  \\\n",
       "0                           0.0                       0.0  ...   \n",
       "1                           0.0                       0.0  ...   \n",
       "2                           0.0                       0.0  ...   \n",
       "3                           0.0                       0.0  ...   \n",
       "4                           0.0                       0.0  ...   \n",
       "\n",
       "  bowl_team_Mumbai Indians bowl_team_Rajasthan Royals  \\\n",
       "0                      0.0                        0.0   \n",
       "1                      0.0                        0.0   \n",
       "2                      0.0                        0.0   \n",
       "3                      0.0                        0.0   \n",
       "4                      0.0                        0.0   \n",
       "\n",
       "  bowl_team_Royal Challengers Bangalore       date runs wickets overs  \\\n",
       "0                                   1.0 2008-04-18   61       0   5.1   \n",
       "1                                   1.0 2008-04-18   61       1   5.2   \n",
       "2                                   1.0 2008-04-18   61       1   5.3   \n",
       "3                                   1.0 2008-04-18   61       1   5.4   \n",
       "4                                   1.0 2008-04-18   61       1   5.5   \n",
       "\n",
       "  runs_last_5 wickets_last_5 total  \n",
       "0          59              0   222  \n",
       "1          59              1   222  \n",
       "2          59              1   222  \n",
       "3          59              1   222  \n",
       "4          58              1   222  \n",
       "\n",
       "[5 rows x 23 columns]"
      ]
     },
     "execution_count": 174,
     "metadata": {},
     "output_type": "execute_result"
    }
   ],
   "source": [
    "# Create the transformer\n",
    "transformer = make_column_transformer(\n",
    "    (OneHotEncoder(sparse_output=False, handle_unknown='ignore'), categorical_cols),\n",
    "    remainder='passthrough'  # Keeps all other columns unchanged\n",
    ")\n",
    "\n",
    "# Fit and transform the data\n",
    "transformed_data = transformer.fit_transform(df)\n",
    "\n",
    "# --- Get feature names for the transformed data ---\n",
    "# 1. Get OneHot encoded feature names\n",
    "encoder = transformer.named_transformers_['onehotencoder']\n",
    "encoded_feature_names = encoder.get_feature_names_out(categorical_cols)\n",
    "\n",
    "# 2. Get passthrough (non-encoded) column names\n",
    "passthrough_columns = [col for col in df.columns if col not in categorical_cols]\n",
    "\n",
    "# 3. Combine all feature names\n",
    "all_feature_names = list(encoded_feature_names) + passthrough_columns\n",
    "\n",
    "# Create final DataFrame\n",
    "df_final = pd.DataFrame(transformed_data, columns=all_feature_names)\n",
    "\n",
    "# Verify no NaN values\n",
    "print(\"\\nNaN values after encoding:\", df_final.isnull().sum().sum())\n",
    "print(\"\\nFirst 5 rows of transformed data:\")\n",
    "df_final.head()"
   ]
  },
  {
   "cell_type": "markdown",
   "id": "d4eede30-2db2-44d3-b6a3-bfb5a8d3e430",
   "metadata": {},
   "source": [
    "## 3.4 Splitting Data into Training and Testing Sets"
   ]
  },
  {
   "cell_type": "code",
   "execution_count": 176,
   "id": "1bd04600-9205-42d1-895a-5692185c75fe",
   "metadata": {},
   "outputs": [],
   "source": [
    "# Training data: All matches before 2017\n",
    "train_data = df_final[df_final['date'].dt.year < 2017]\n",
    "\n",
    "# Test data: All matches in 2017\n",
    "test_data = df_final[df_final['date'].dt.year == 2017]"
   ]
  },
  {
   "cell_type": "code",
   "execution_count": 178,
   "id": "3c2af173-a3b4-4d86-9808-b94dcd4b1259",
   "metadata": {},
   "outputs": [],
   "source": [
    "train_data = train_data.drop('date', axis=1)\n",
    "test_data = test_data.drop('date', axis=1)"
   ]
  },
  {
   "cell_type": "code",
   "execution_count": 180,
   "id": "d84b5431-fdfa-475a-b143-d134f6c72eca",
   "metadata": {},
   "outputs": [],
   "source": [
    "# Features (X) - All columns except 'total'\n",
    "X_train = train_data.drop('total', axis=1)\n",
    "X_test = test_data.drop('total', axis=1)\n",
    "\n",
    "# Target (y) - 'total' runs\n",
    "y_train = train_data['total']\n",
    "y_test = test_data['total']"
   ]
  },
  {
   "cell_type": "code",
   "execution_count": 182,
   "id": "f5c7a298-5de9-461a-b378-5ffec2e15a7d",
   "metadata": {},
   "outputs": [
    {
     "name": "stdout",
     "output_type": "stream",
     "text": [
      "Training set size: 38958 matches (2008-2016)\n",
      "Test set size: 1937 matches (2017)\n"
     ]
    }
   ],
   "source": [
    "print(f\"Training set size: {X_train.shape[0]} matches (2008-2016)\")\n",
    "print(f\"Test set size: {X_test.shape[0]} matches (2017)\")"
   ]
  },
  {
   "cell_type": "markdown",
   "id": "35ab2459-702c-442f-abf6-4411ca026e2b",
   "metadata": {},
   "source": [
    "# 4. Model Building"
   ]
  },
  {
   "cell_type": "markdown",
   "id": "bea5d048-37e4-4188-8f8d-7fa7f68e6e12",
   "metadata": {},
   "source": [
    "## 4.1 Models Used"
   ]
  },
  {
   "cell_type": "code",
   "execution_count": 186,
   "id": "84f876c6-4280-4891-8bb5-56c9f2ec22dc",
   "metadata": {},
   "outputs": [],
   "source": [
    "from sklearn.model_selection import GridSearchCV\n",
    "from sklearn.metrics import mean_absolute_error, mean_squared_error\n",
    "\n",
    "# Regression Models\n",
    "from sklearn.linear_model import LinearRegression\n",
    "from sklearn.tree import DecisionTreeRegressor\n",
    "from sklearn.ensemble import RandomForestRegressor, AdaBoostRegressor"
   ]
  },
  {
   "cell_type": "markdown",
   "id": "fbc01088-36a8-4727-a802-9810a89d09c4",
   "metadata": {},
   "source": [
    "## 4.2 Model Training and Evaluation"
   ]
  },
  {
   "cell_type": "code",
   "execution_count": 188,
   "id": "53e52ffe-08fa-4618-ad41-ab44892b8e24",
   "metadata": {},
   "outputs": [],
   "source": [
    "models = {\n",
    "    \"Linear Regression\": (LinearRegression(), {}),\n",
    "    \"Decision Tree\": (\n",
    "        DecisionTreeRegressor(),\n",
    "        {\"max_depth\": [5, 10, 15, None], \"min_samples_split\": [2, 5, 10]}\n",
    "    ),\n",
    "    \"Random Forest\": (\n",
    "        RandomForestRegressor(),\n",
    "        {\"n_estimators\": [50, 100, 200], \"max_depth\": [5, 10, None]}\n",
    "    ),\n",
    "    \"AdaBoost (Linear)\": (\n",
    "        AdaBoostRegressor(estimator=LinearRegression()),\n",
    "        {\"n_estimators\": [50, 100], \"learning_rate\": [0.5, 1.0]}\n",
    "    )\n",
    "}"
   ]
  },
  {
   "cell_type": "markdown",
   "id": "6c5bab36-c4ff-4235-8b27-62a23c289bbe",
   "metadata": {},
   "source": [
    "## 4.3 Model Comparison"
   ]
  },
  {
   "cell_type": "code",
   "execution_count": 191,
   "id": "79d8f5ca-ae3e-4034-8dbb-dea6b582dc01",
   "metadata": {},
   "outputs": [
    {
     "name": "stdout",
     "output_type": "stream",
     "text": [
      "bat_team_Chennai Super Kings             object\n",
      "bat_team_Deccan Chargers                 object\n",
      "bat_team_Delhi Daredevils                object\n",
      "bat_team_Kings XI Punjab                 object\n",
      "bat_team_Kolkata Knight Riders           object\n",
      "bat_team_Mumbai Indians                  object\n",
      "bat_team_Rajasthan Royals                object\n",
      "bat_team_Royal Challengers Bangalore     object\n",
      "bowl_team_Chennai Super Kings            object\n",
      "bowl_team_Deccan Chargers                object\n",
      "bowl_team_Delhi Daredevils               object\n",
      "bowl_team_Kings XI Punjab                object\n",
      "bowl_team_Kolkata Knight Riders          object\n",
      "bowl_team_Mumbai Indians                 object\n",
      "bowl_team_Rajasthan Royals               object\n",
      "bowl_team_Royal Challengers Bangalore    object\n",
      "runs                                     object\n",
      "wickets                                  object\n",
      "overs                                    object\n",
      "runs_last_5                              object\n",
      "wickets_last_5                           object\n",
      "dtype: object\n",
      "______________________________________________________________________\n",
      "bat_team_Chennai Super Kings             0\n",
      "bat_team_Deccan Chargers                 0\n",
      "bat_team_Delhi Daredevils                0\n",
      "bat_team_Kings XI Punjab                 0\n",
      "bat_team_Kolkata Knight Riders           0\n",
      "bat_team_Mumbai Indians                  0\n",
      "bat_team_Rajasthan Royals                0\n",
      "bat_team_Royal Challengers Bangalore     0\n",
      "bowl_team_Chennai Super Kings            0\n",
      "bowl_team_Deccan Chargers                0\n",
      "bowl_team_Delhi Daredevils               0\n",
      "bowl_team_Kings XI Punjab                0\n",
      "bowl_team_Kolkata Knight Riders          0\n",
      "bowl_team_Mumbai Indians                 0\n",
      "bowl_team_Rajasthan Royals               0\n",
      "bowl_team_Royal Challengers Bangalore    0\n",
      "runs                                     0\n",
      "wickets                                  0\n",
      "overs                                    0\n",
      "runs_last_5                              0\n",
      "wickets_last_5                           0\n",
      "dtype: int64\n",
      "______________________________________________________________________\n",
      "<class 'pandas.core.frame.DataFrame'>\n",
      "Index: 38958 entries, 0 to 38957\n",
      "Data columns (total 21 columns):\n",
      " #   Column                                 Non-Null Count  Dtype \n",
      "---  ------                                 --------------  ----- \n",
      " 0   bat_team_Chennai Super Kings           38958 non-null  object\n",
      " 1   bat_team_Deccan Chargers               38958 non-null  object\n",
      " 2   bat_team_Delhi Daredevils              38958 non-null  object\n",
      " 3   bat_team_Kings XI Punjab               38958 non-null  object\n",
      " 4   bat_team_Kolkata Knight Riders         38958 non-null  object\n",
      " 5   bat_team_Mumbai Indians                38958 non-null  object\n",
      " 6   bat_team_Rajasthan Royals              38958 non-null  object\n",
      " 7   bat_team_Royal Challengers Bangalore   38958 non-null  object\n",
      " 8   bowl_team_Chennai Super Kings          38958 non-null  object\n",
      " 9   bowl_team_Deccan Chargers              38958 non-null  object\n",
      " 10  bowl_team_Delhi Daredevils             38958 non-null  object\n",
      " 11  bowl_team_Kings XI Punjab              38958 non-null  object\n",
      " 12  bowl_team_Kolkata Knight Riders        38958 non-null  object\n",
      " 13  bowl_team_Mumbai Indians               38958 non-null  object\n",
      " 14  bowl_team_Rajasthan Royals             38958 non-null  object\n",
      " 15  bowl_team_Royal Challengers Bangalore  38958 non-null  object\n",
      " 16  runs                                   38958 non-null  object\n",
      " 17  wickets                                38958 non-null  object\n",
      " 18  overs                                  38958 non-null  object\n",
      " 19  runs_last_5                            38958 non-null  object\n",
      " 20  wickets_last_5                         38958 non-null  object\n",
      "dtypes: object(21)\n",
      "memory usage: 6.5+ MB\n",
      "None\n"
     ]
    }
   ],
   "source": [
    "print(X_train.dtypes)\n",
    "print(\"______________________________________________________________________\")\n",
    "print(X_train.isna().sum())  # Check which columns have NaN values\n",
    "print(\"______________________________________________________________________\")\n",
    "print(X_train.info())       # Check data types and missing values"
   ]
  },
  {
   "cell_type": "code",
   "execution_count": 193,
   "id": "e4267e29-9526-4f7e-9aee-fcd2bb79fbb3",
   "metadata": {},
   "outputs": [
    {
     "name": "stdout",
     "output_type": "stream",
     "text": [
      "Training Linear Regression...\n",
      "Training Decision Tree...\n",
      "Training Random Forest...\n",
      "Training AdaBoost (Linear)...\n"
     ]
    }
   ],
   "source": [
    "results = {}\n",
    "\n",
    "for name, (model, params) in models.items():\n",
    "    print(f\"Training {name}...\")\n",
    "    \n",
    "    # GridSearchCV for hyperparameter tuning\n",
    "    grid = GridSearchCV(model, params, cv=5, scoring='neg_mean_squared_error')\n",
    "    grid.fit(X_train, y_train)\n",
    "    \n",
    "    # Best model\n",
    "    best_model = grid.best_estimator_\n",
    "    \n",
    "    # Predictions\n",
    "    y_pred = best_model.predict(X_test)\n",
    "    \n",
    "    # Evaluation metrics\n",
    "    mae = mean_absolute_error(y_test, y_pred)\n",
    "    mse = mean_squared_error(y_test, y_pred)\n",
    "    rmse = np.sqrt(mse)\n",
    "    \n",
    "    # Store results\n",
    "    results[name] = {\n",
    "    \"Best Params\": grid.best_params_,\n",
    "    \"MAE\": mae,\n",
    "    \"MSE\": mse,\n",
    "    \"RMSE\": rmse,\n",
    "    \"trained_model\": best_model  # Add this line to store the trained model\n",
    "}"
   ]
  },
  {
   "cell_type": "code",
   "execution_count": 195,
   "id": "a7635799-2889-475b-87e3-ba69a088cd88",
   "metadata": {},
   "outputs": [
    {
     "name": "stdout",
     "output_type": "stream",
     "text": [
      "\n",
      "Linear Regression:\n",
      "Best Params: {}\n",
      "MAE: 13.11\n",
      "MSE: 297.48\n",
      "RMSE: 17.25\n",
      "\n",
      "Decision Tree:\n",
      "Best Params: {'max_depth': 10, 'min_samples_split': 5}\n",
      "MAE: 16.21\n",
      "MSE: 471.57\n",
      "RMSE: 21.72\n",
      "\n",
      "Random Forest:\n",
      "Best Params: {'max_depth': 10, 'n_estimators': 200}\n",
      "MAE: 14.53\n",
      "MSE: 352.43\n",
      "RMSE: 18.77\n",
      "\n",
      "AdaBoost (Linear):\n",
      "Best Params: {'learning_rate': 0.5, 'n_estimators': 50}\n",
      "MAE: 12.76\n",
      "MSE: 280.78\n",
      "RMSE: 16.76\n"
     ]
    }
   ],
   "source": [
    "for model_name, metrics in results.items():\n",
    "    print(f\"\\n{model_name}:\")\n",
    "    print(f\"Best Params: {metrics['Best Params']}\")\n",
    "    print(f\"MAE: {metrics['MAE']:.2f}\")\n",
    "    print(f\"MSE: {metrics['MSE']:.2f}\")\n",
    "    print(f\"RMSE: {metrics['RMSE']:.2f}\")"
   ]
  },
  {
   "cell_type": "markdown",
   "id": "0bbc0ee2-f9a2-4cc6-8ad6-cbc2ea86239a",
   "metadata": {},
   "source": [
    "# 5. Model Optimization with AdaBoost\n",
    "## 5.1 AdaBoost with Linear Regression\n"
   ]
  },
  {
   "cell_type": "code",
   "execution_count": 197,
   "id": "37321e0b-9a07-4e05-99b5-d5e740156064",
   "metadata": {},
   "outputs": [
    {
     "name": "stdout",
     "output_type": "stream",
     "text": [
      "AdaBoost (Linear) RMSE: 16.74\n",
      "Linear Regression RMSE: 17.25\n"
     ]
    }
   ],
   "source": [
    "# Initialize AdaBoost with Linear Regression as base\n",
    "adaboost_lr = AdaBoostRegressor(\n",
    "    estimator=LinearRegression(),  # Base learner\n",
    "    n_estimators=50,              # Number of boosting iterations\n",
    "    random_state=42\n",
    ")\n",
    "\n",
    "# Train and evaluate\n",
    "adaboost_lr.fit(X_train, y_train)\n",
    "y_pred_ada = adaboost_lr.predict(X_test)\n",
    "\n",
    "# Compare with base Linear Regression\n",
    "lr = LinearRegression()\n",
    "lr.fit(X_train, y_train)\n",
    "y_pred_lr = lr.predict(X_test)\n",
    "\n",
    "# Calculate RMSE\n",
    "rmse_ada = np.sqrt(mean_squared_error(y_test, y_pred_ada))\n",
    "rmse_lr = np.sqrt(mean_squared_error(y_test, y_pred_lr))\n",
    "\n",
    "print(f\"AdaBoost (Linear) RMSE: {rmse_ada:.2f}\")\n",
    "print(f\"Linear Regression RMSE: {rmse_lr:.2f}\")"
   ]
  },
  {
   "cell_type": "markdown",
   "id": "a4698cfa-ad24-443f-9083-c51346463e23",
   "metadata": {},
   "source": [
    "## 5.2 Final Model Selection"
   ]
  },
  {
   "cell_type": "code",
   "execution_count": 199,
   "id": "0ece35fe-7eec-469f-9a32-9885ad4ff98c",
   "metadata": {},
   "outputs": [
    {
     "data": {
      "text/plain": [
       "['feature_transformer.pkl']"
      ]
     },
     "execution_count": 199,
     "metadata": {},
     "output_type": "execute_result"
    }
   ],
   "source": [
    "import joblib\n",
    "\n",
    "# Save the best model and transformer\n",
    "joblib.dump(lr, 'final_model.pkl')\n",
    "joblib.dump(transformer, 'feature_transformer.pkl')\n",
    "\n"
   ]
  },
  {
   "cell_type": "markdown",
   "id": "34ba2d56-1324-4add-99b0-68fdcfe42962",
   "metadata": {},
   "source": [
    "# 6. Predictions\n",
    "## 6.1 Predicting IPL Scores"
   ]
  },
  {
   "cell_type": "code",
   "execution_count": 202,
   "id": "1740f317-31b0-4a53-82b1-941b16a73751",
   "metadata": {},
   "outputs": [],
   "source": [
    "# Load saved model and transformer\n",
    "model = joblib.load('final_model.pkl')\n",
    "transformer = joblib.load('feature_transformer.pkl')"
   ]
  },
  {
   "cell_type": "code",
   "execution_count": 204,
   "id": "13c5e46b-bfe4-453a-af03-028ed43b9e91",
   "metadata": {},
   "outputs": [],
   "source": [
    "import pandas as pd\n",
    "import numpy as np\n",
    "from sklearn.compose import make_column_transformer\n",
    "from sklearn.preprocessing import OneHotEncoder\n",
    "import joblib\n",
    "\n",
    "def predict_score(batting_team, bowling_team, overs, runs, wickets, runs_last_5, wickets_last_5):\n",
    "    \"\"\"\n",
    "    Predicts the final score of an innings.\n",
    "    \n",
    "    Args:\n",
    "        batting_team (str): Name of batting team\n",
    "        bowling_team (str): Name of bowling team\n",
    "        overs (float): Current over (e.g., 10.2 for 10.2 overs)\n",
    "        runs (int): Runs scored so far\n",
    "        wickets (int): Wickets fallen so far\n",
    "        runs_last_5 (int): Runs in last 5 overs\n",
    "        wickets_last_5 (int): Wickets in last 5 overs\n",
    "        \n",
    "    Returns:\n",
    "        dict: Predicted score and wickets\n",
    "    \"\"\"\n",
    "    # Create input DataFrame\n",
    "    input_data = pd.DataFrame({\n",
    "        'bat_team': [batting_team],\n",
    "        'bowl_team': [bowling_team],\n",
    "        'runs': [runs],\n",
    "        'wickets': [wickets],\n",
    "        'overs': [overs],\n",
    "        'runs_last_5': [runs_last_5],\n",
    "        'wickets_last_5': [wickets_last_5]\n",
    "    })\n",
    "    \n",
    "    # Create a new transformer for prediction\n",
    "    categorical_cols = ['bat_team', 'bowl_team']\n",
    "    numerical_cols = ['runs', 'wickets', 'overs', 'runs_last_5', 'wickets_last_5']\n",
    "    \n",
    "    # Initialize OneHotEncoder with categories from training\n",
    "    consistent_teams = [\n",
    "        'Chennai Super Kings', 'Mumbai Indians', 'Kolkata Knight Riders',\n",
    "        'Royal Challengers Bangalore', 'Kings XI Punjab', 'Delhi Daredevils',\n",
    "        'Rajasthan Royals', 'Deccan Chargers'\n",
    "    ]\n",
    "    \n",
    "    ohe = OneHotEncoder(\n",
    "        categories=[consistent_teams, consistent_teams],\n",
    "        handle_unknown='ignore'\n",
    "    )\n",
    "    \n",
    "    # Create column transformer\n",
    "    transformer = make_column_transformer(\n",
    "        (ohe, categorical_cols),\n",
    "        remainder='passthrough'\n",
    "    )\n",
    "    \n",
    "    # Transform the input data\n",
    "    input_transformed = transformer.fit_transform(input_data)\n",
    "    \n",
    "    # Load the trained model\n",
    "    model = joblib.load('final_model.pkl')\n",
    "    \n",
    "    # Predict\n",
    "    predicted_total = model.predict(input_transformed)[0]\n",
    "    \n",
    "    # Round to nearest integer\n",
    "    predicted_total = int(round(predicted_total))\n",
    "    \n",
    "    # Predict wickets\n",
    "    predicted_wickets = min(10, int(round(wickets * (predicted_total / runs))) if runs > 0 else wickets)\n",
    "    \n",
    "    return {\n",
    "        'predicted_score': f\"{predicted_total}/{predicted_wickets}\",\n",
    "        'batting_team': batting_team,\n",
    "        'bowling_team': bowling_team\n",
    "    }"
   ]
  },
  {
   "cell_type": "markdown",
   "id": "306800db-efc5-4c0f-b5fa-411245545f76",
   "metadata": {},
   "source": [
    "## 6.2 Example Predictions"
   ]
  },
  {
   "cell_type": "code",
   "execution_count": 206,
   "id": "355ad2f5-5ee1-4eb5-885e-d3d3463563e3",
   "metadata": {},
   "outputs": [
    {
     "name": "stdout",
     "output_type": "stream",
     "text": [
      "{'predicted_score': '168/4', 'batting_team': 'Kolkata Knight Riders', 'bowling_team': 'Delhi Daredevils'}\n"
     ]
    }
   ],
   "source": [
    "print(predict_score(\n",
    "    batting_team='Kolkata Knight Riders',\n",
    "    bowling_team='Delhi Daredevils',\n",
    "    overs=15.0,\n",
    "    runs=120,\n",
    "    wickets=3,\n",
    "    runs_last_5=45,\n",
    "    wickets_last_5=1\n",
    "))"
   ]
  },
  {
   "cell_type": "code",
   "execution_count": 208,
   "id": "e37890f8-b6a6-492d-9c2e-6f72a9feaaf1",
   "metadata": {},
   "outputs": [
    {
     "name": "stdout",
     "output_type": "stream",
     "text": [
      "{'predicted_score': '135/10', 'batting_team': 'Sunrisers Hyderabad', 'bowling_team': 'Royal Challengers Bangalore'}\n"
     ]
    }
   ],
   "source": [
    "print(predict_score(\n",
    "    batting_team='Sunrisers Hyderabad',\n",
    "    bowling_team='Royal Challengers Bangalore',\n",
    "    overs=12.0,\n",
    "    runs=80,\n",
    "    wickets=6,\n",
    "    runs_last_5=30,\n",
    "    wickets_last_5=3\n",
    "))"
   ]
  },
  {
   "cell_type": "code",
   "execution_count": null,
   "id": "e8d47c33-e1e4-4a56-96c8-d3e70c8f2ebe",
   "metadata": {},
   "outputs": [],
   "source": []
  }
 ],
 "metadata": {
  "kernelspec": {
   "display_name": "Python [conda env:base] *",
   "language": "python",
   "name": "conda-base-py"
  },
  "language_info": {
   "codemirror_mode": {
    "name": "ipython",
    "version": 3
   },
   "file_extension": ".py",
   "mimetype": "text/x-python",
   "name": "python",
   "nbconvert_exporter": "python",
   "pygments_lexer": "ipython3",
   "version": "3.12.7"
  }
 },
 "nbformat": 4,
 "nbformat_minor": 5
}
